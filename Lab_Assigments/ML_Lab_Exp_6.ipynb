{
  "nbformat": 4,
  "nbformat_minor": 0,
  "metadata": {
    "colab": {
      "name": "ML_Lab_Exp_6.ipynb",
      "provenance": [],
      "authorship_tag": "ABX9TyPUFqi0lCdA2EpcKaFLduzb",
      "include_colab_link": true
    },
    "kernelspec": {
      "name": "python3",
      "display_name": "Python 3"
    }
  },
  "cells": [
    {
      "cell_type": "markdown",
      "metadata": {
        "id": "view-in-github",
        "colab_type": "text"
      },
      "source": [
        "<a href=\"https://colab.research.google.com/github/aniketmodi-work/ML-NMIMS/blob/master/Lab_Assigments/ML_Lab_Exp_6.ipynb\" target=\"_parent\"><img src=\"https://colab.research.google.com/assets/colab-badge.svg\" alt=\"Open In Colab\"/></a>"
      ]
    },
    {
      "cell_type": "markdown",
      "metadata": {
        "id": "9S8qCWXeZvKd",
        "colab_type": "text"
      },
      "source": [
        "## Experiment 6"
      ]
    },
    {
      "cell_type": "markdown",
      "metadata": {
        "id": "BLC5RwQFZfC0",
        "colab_type": "text"
      },
      "source": [
        "**Aim:** Classification using Neural network models\n",
        "\n",
        "**Objectives:**\n",
        "* Perform classification on bitcoin 2011 dataset\n",
        "* Select correct architecture for +75% accuracy on cross validation and test set for bitcoin 2011 dataset - 60%-20%-20% (Train-Crossval-Test split)\n",
        "* Plot accuracy vs validation acc and loss vs validation loss during epochs\n"
      ]
    },
    {
      "cell_type": "code",
      "metadata": {
        "id": "FFb3AfbdY759",
        "colab_type": "code",
        "colab": {
          "base_uri": "https://localhost:8080/",
          "height": 70
        },
        "outputId": "8303b625-f4a0-4093-90b3-352586c9c1c6"
      },
      "source": [
        "import numpy as np\n",
        "import pandas as pd\n",
        "\n",
        "import matplotlib.pyplot as plt\n",
        "import seaborn as sns\n",
        "\n",
        "from sklearn.model_selection import train_test_split, cross_val_score\n",
        "from sklearn.preprocessing import StandardScaler\n",
        "\n",
        "from sklearn import linear_model\n",
        "from sklearn.model_selection import GridSearchCV, RandomizedSearchCV\n",
        "\n",
        "import warnings\n",
        "warnings.filterwarnings('ignore')"
      ],
      "execution_count": 1,
      "outputs": [
        {
          "output_type": "stream",
          "text": [
            "/usr/local/lib/python3.6/dist-packages/statsmodels/tools/_testing.py:19: FutureWarning: pandas.util.testing is deprecated. Use the functions in the public API at pandas.testing instead.\n",
            "  import pandas.util.testing as tm\n"
          ],
          "name": "stderr"
        }
      ]
    },
    {
      "cell_type": "code",
      "metadata": {
        "id": "6N3UBhFEZVMd",
        "colab_type": "code",
        "colab": {
          "base_uri": "https://localhost:8080/",
          "height": 571
        },
        "outputId": "b1a87a13-bed9-4c60-c61a-e344ee9482bd"
      },
      "source": [
        "!wget -O 2011gcn.csv https://raw.githubusercontent.com/pranavn91/blockchain/master/2011gcn.csv\n",
        "!wget -O tx2011partvertices_new.csv https://raw.githubusercontent.com/pranavn91/blockchain/master/tx2011partvertices_new.csv\n",
        "!wget -O tx2011partvertices.csv https://raw.githubusercontent.com/pranavn91/blockchain/master/tx2011partvertices.csv\n"
      ],
      "execution_count": 2,
      "outputs": [
        {
          "output_type": "stream",
          "text": [
            "--2020-08-31 02:43:09--  https://raw.githubusercontent.com/pranavn91/blockchain/master/2011gcn.csv\n",
            "Resolving raw.githubusercontent.com (raw.githubusercontent.com)... 151.101.0.133, 151.101.64.133, 151.101.128.133, ...\n",
            "Connecting to raw.githubusercontent.com (raw.githubusercontent.com)|151.101.0.133|:443... connected.\n",
            "HTTP request sent, awaiting response... 200 OK\n",
            "Length: 12563086 (12M) [text/plain]\n",
            "Saving to: ‘2011gcn.csv’\n",
            "\n",
            "2011gcn.csv         100%[===================>]  11.98M  26.1MB/s    in 0.5s    \n",
            "\n",
            "2020-08-31 02:43:10 (26.1 MB/s) - ‘2011gcn.csv’ saved [12563086/12563086]\n",
            "\n",
            "--2020-08-31 02:43:10--  https://raw.githubusercontent.com/pranavn91/blockchain/master/tx2011partvertices_new.csv\n",
            "Resolving raw.githubusercontent.com (raw.githubusercontent.com)... 151.101.0.133, 151.101.64.133, 151.101.128.133, ...\n",
            "Connecting to raw.githubusercontent.com (raw.githubusercontent.com)|151.101.0.133|:443... connected.\n",
            "HTTP request sent, awaiting response... 200 OK\n",
            "Length: 12501458 (12M) [text/plain]\n",
            "Saving to: ‘tx2011partvertices_new.csv’\n",
            "\n",
            "tx2011partvertices_ 100%[===================>]  11.92M  32.9MB/s    in 0.4s    \n",
            "\n",
            "2020-08-31 02:43:11 (32.9 MB/s) - ‘tx2011partvertices_new.csv’ saved [12501458/12501458]\n",
            "\n",
            "--2020-08-31 02:43:11--  https://raw.githubusercontent.com/pranavn91/blockchain/master/tx2011partvertices.csv\n",
            "Resolving raw.githubusercontent.com (raw.githubusercontent.com)... 151.101.0.133, 151.101.64.133, 151.101.128.133, ...\n",
            "Connecting to raw.githubusercontent.com (raw.githubusercontent.com)|151.101.0.133|:443... connected.\n",
            "HTTP request sent, awaiting response... 200 OK\n",
            "Length: 1934257 (1.8M) [text/plain]\n",
            "Saving to: ‘tx2011partvertices.csv’\n",
            "\n",
            "tx2011partvertices. 100%[===================>]   1.84M  11.1MB/s    in 0.2s    \n",
            "\n",
            "2020-08-31 02:43:11 (11.1 MB/s) - ‘tx2011partvertices.csv’ saved [1934257/1934257]\n",
            "\n"
          ],
          "name": "stdout"
        }
      ]
    },
    {
      "cell_type": "code",
      "metadata": {
        "id": "o_Qr5EBAZZ3K",
        "colab_type": "code",
        "colab": {}
      },
      "source": [
        "data1 = pd.read_csv('2011gcn.csv')\n",
        "data2 = pd.read_csv('tx2011partvertices_new.csv')\n",
        "data3 = pd.read_csv('tx2011partvertices.csv')"
      ],
      "execution_count": 3,
      "outputs": []
    },
    {
      "cell_type": "code",
      "metadata": {
        "id": "XTNUt3gyZ528",
        "colab_type": "code",
        "colab": {
          "base_uri": "https://localhost:8080/",
          "height": 67
        },
        "outputId": "ab9dd01a-6373-4558-ee05-560350266362"
      },
      "source": [
        "print('Data 1 Shape: ', data1.shape)\n",
        "print('Data 2 Shape: ', data2.shape)\n",
        "print('Data 3 Shape: ', data3.shape)"
      ],
      "execution_count": 4,
      "outputs": [
        {
          "output_type": "stream",
          "text": [
            "Data 1 Shape:  (96498, 17)\n",
            "Data 2 Shape:  (96498, 20)\n",
            "Data 3 Shape:  (96498, 2)\n"
          ],
          "name": "stdout"
        }
      ]
    },
    {
      "cell_type": "code",
      "metadata": {
        "id": "Mss-tF5PZ8Nz",
        "colab_type": "code",
        "colab": {
          "base_uri": "https://localhost:8080/",
          "height": 195
        },
        "outputId": "6c1eb05a-998b-4f97-9c68-3722cc67c1e0"
      },
      "source": [
        "data1.head()"
      ],
      "execution_count": 5,
      "outputs": [
        {
          "output_type": "execute_result",
          "data": {
            "text/html": [
              "<div>\n",
              "<style scoped>\n",
              "    .dataframe tbody tr th:only-of-type {\n",
              "        vertical-align: middle;\n",
              "    }\n",
              "\n",
              "    .dataframe tbody tr th {\n",
              "        vertical-align: top;\n",
              "    }\n",
              "\n",
              "    .dataframe thead th {\n",
              "        text-align: right;\n",
              "    }\n",
              "</style>\n",
              "<table border=\"1\" class=\"dataframe\">\n",
              "  <thead>\n",
              "    <tr style=\"text-align: right;\">\n",
              "      <th></th>\n",
              "      <th>Unnamed: 0</th>\n",
              "      <th>0</th>\n",
              "      <th>1</th>\n",
              "      <th>2</th>\n",
              "      <th>3</th>\n",
              "      <th>4</th>\n",
              "      <th>5</th>\n",
              "      <th>6</th>\n",
              "      <th>7</th>\n",
              "      <th>8</th>\n",
              "      <th>9</th>\n",
              "      <th>10</th>\n",
              "      <th>11</th>\n",
              "      <th>12</th>\n",
              "      <th>13</th>\n",
              "      <th>14</th>\n",
              "      <th>15</th>\n",
              "    </tr>\n",
              "  </thead>\n",
              "  <tbody>\n",
              "    <tr>\n",
              "      <th>0</th>\n",
              "      <td>0</td>\n",
              "      <td>0.0</td>\n",
              "      <td>4.811244e+07</td>\n",
              "      <td>0.0</td>\n",
              "      <td>0.0</td>\n",
              "      <td>5.298934e+07</td>\n",
              "      <td>0.0</td>\n",
              "      <td>5.215435e+07</td>\n",
              "      <td>0.0</td>\n",
              "      <td>0.0</td>\n",
              "      <td>4.293262e+05</td>\n",
              "      <td>3.994267e+07</td>\n",
              "      <td>6.251989e+07</td>\n",
              "      <td>0.0</td>\n",
              "      <td>0.0</td>\n",
              "      <td>2.670458e+07</td>\n",
              "      <td>8.313858e+07</td>\n",
              "    </tr>\n",
              "    <tr>\n",
              "      <th>1</th>\n",
              "      <td>1</td>\n",
              "      <td>0.0</td>\n",
              "      <td>3.477977e+05</td>\n",
              "      <td>0.0</td>\n",
              "      <td>0.0</td>\n",
              "      <td>3.777575e+05</td>\n",
              "      <td>0.0</td>\n",
              "      <td>3.757520e+05</td>\n",
              "      <td>0.0</td>\n",
              "      <td>0.0</td>\n",
              "      <td>6.889133e+03</td>\n",
              "      <td>3.001618e+05</td>\n",
              "      <td>4.527358e+05</td>\n",
              "      <td>0.0</td>\n",
              "      <td>0.0</td>\n",
              "      <td>1.915057e+05</td>\n",
              "      <td>6.009039e+05</td>\n",
              "    </tr>\n",
              "    <tr>\n",
              "      <th>2</th>\n",
              "      <td>2</td>\n",
              "      <td>0.0</td>\n",
              "      <td>6.455196e+07</td>\n",
              "      <td>0.0</td>\n",
              "      <td>0.0</td>\n",
              "      <td>7.110790e+07</td>\n",
              "      <td>0.0</td>\n",
              "      <td>6.997804e+07</td>\n",
              "      <td>0.0</td>\n",
              "      <td>0.0</td>\n",
              "      <td>5.670157e+05</td>\n",
              "      <td>5.356332e+07</td>\n",
              "      <td>8.388026e+07</td>\n",
              "      <td>0.0</td>\n",
              "      <td>0.0</td>\n",
              "      <td>3.583296e+07</td>\n",
              "      <td>1.115463e+08</td>\n",
              "    </tr>\n",
              "    <tr>\n",
              "      <th>3</th>\n",
              "      <td>3</td>\n",
              "      <td>0.0</td>\n",
              "      <td>2.009876e+08</td>\n",
              "      <td>0.0</td>\n",
              "      <td>0.0</td>\n",
              "      <td>2.214679e+08</td>\n",
              "      <td>0.0</td>\n",
              "      <td>2.174101e+08</td>\n",
              "      <td>0.0</td>\n",
              "      <td>0.0</td>\n",
              "      <td>1.342720e+06</td>\n",
              "      <td>1.665389e+08</td>\n",
              "      <td>2.614420e+08</td>\n",
              "      <td>0.0</td>\n",
              "      <td>0.0</td>\n",
              "      <td>1.116514e+08</td>\n",
              "      <td>3.472892e+08</td>\n",
              "    </tr>\n",
              "    <tr>\n",
              "      <th>4</th>\n",
              "      <td>4</td>\n",
              "      <td>0.0</td>\n",
              "      <td>2.384675e+05</td>\n",
              "      <td>0.0</td>\n",
              "      <td>0.0</td>\n",
              "      <td>2.597246e+05</td>\n",
              "      <td>0.0</td>\n",
              "      <td>2.577884e+05</td>\n",
              "      <td>0.0</td>\n",
              "      <td>0.0</td>\n",
              "      <td>4.202993e+03</td>\n",
              "      <td>2.042845e+05</td>\n",
              "      <td>3.103489e+05</td>\n",
              "      <td>0.0</td>\n",
              "      <td>0.0</td>\n",
              "      <td>1.315073e+05</td>\n",
              "      <td>4.120424e+05</td>\n",
              "    </tr>\n",
              "  </tbody>\n",
              "</table>\n",
              "</div>"
            ],
            "text/plain": [
              "   Unnamed: 0    0             1    2  ...   12   13            14            15\n",
              "0           0  0.0  4.811244e+07  0.0  ...  0.0  0.0  2.670458e+07  8.313858e+07\n",
              "1           1  0.0  3.477977e+05  0.0  ...  0.0  0.0  1.915057e+05  6.009039e+05\n",
              "2           2  0.0  6.455196e+07  0.0  ...  0.0  0.0  3.583296e+07  1.115463e+08\n",
              "3           3  0.0  2.009876e+08  0.0  ...  0.0  0.0  1.116514e+08  3.472892e+08\n",
              "4           4  0.0  2.384675e+05  0.0  ...  0.0  0.0  1.315073e+05  4.120424e+05\n",
              "\n",
              "[5 rows x 17 columns]"
            ]
          },
          "metadata": {
            "tags": []
          },
          "execution_count": 5
        }
      ]
    },
    {
      "cell_type": "code",
      "metadata": {
        "id": "ijIfF7sWaA2a",
        "colab_type": "code",
        "colab": {
          "base_uri": "https://localhost:8080/",
          "height": 195
        },
        "outputId": "f0ffe085-831d-448d-ca28-d6db186f9b1e"
      },
      "source": [
        "data1.rename(columns={'Unnamed: 0':'index'}, inplace=True)\n",
        "data1['index'] = data1['index'] + 1\n",
        "data1.head()"
      ],
      "execution_count": 6,
      "outputs": [
        {
          "output_type": "execute_result",
          "data": {
            "text/html": [
              "<div>\n",
              "<style scoped>\n",
              "    .dataframe tbody tr th:only-of-type {\n",
              "        vertical-align: middle;\n",
              "    }\n",
              "\n",
              "    .dataframe tbody tr th {\n",
              "        vertical-align: top;\n",
              "    }\n",
              "\n",
              "    .dataframe thead th {\n",
              "        text-align: right;\n",
              "    }\n",
              "</style>\n",
              "<table border=\"1\" class=\"dataframe\">\n",
              "  <thead>\n",
              "    <tr style=\"text-align: right;\">\n",
              "      <th></th>\n",
              "      <th>index</th>\n",
              "      <th>0</th>\n",
              "      <th>1</th>\n",
              "      <th>2</th>\n",
              "      <th>3</th>\n",
              "      <th>4</th>\n",
              "      <th>5</th>\n",
              "      <th>6</th>\n",
              "      <th>7</th>\n",
              "      <th>8</th>\n",
              "      <th>9</th>\n",
              "      <th>10</th>\n",
              "      <th>11</th>\n",
              "      <th>12</th>\n",
              "      <th>13</th>\n",
              "      <th>14</th>\n",
              "      <th>15</th>\n",
              "    </tr>\n",
              "  </thead>\n",
              "  <tbody>\n",
              "    <tr>\n",
              "      <th>0</th>\n",
              "      <td>1</td>\n",
              "      <td>0.0</td>\n",
              "      <td>4.811244e+07</td>\n",
              "      <td>0.0</td>\n",
              "      <td>0.0</td>\n",
              "      <td>5.298934e+07</td>\n",
              "      <td>0.0</td>\n",
              "      <td>5.215435e+07</td>\n",
              "      <td>0.0</td>\n",
              "      <td>0.0</td>\n",
              "      <td>4.293262e+05</td>\n",
              "      <td>3.994267e+07</td>\n",
              "      <td>6.251989e+07</td>\n",
              "      <td>0.0</td>\n",
              "      <td>0.0</td>\n",
              "      <td>2.670458e+07</td>\n",
              "      <td>8.313858e+07</td>\n",
              "    </tr>\n",
              "    <tr>\n",
              "      <th>1</th>\n",
              "      <td>2</td>\n",
              "      <td>0.0</td>\n",
              "      <td>3.477977e+05</td>\n",
              "      <td>0.0</td>\n",
              "      <td>0.0</td>\n",
              "      <td>3.777575e+05</td>\n",
              "      <td>0.0</td>\n",
              "      <td>3.757520e+05</td>\n",
              "      <td>0.0</td>\n",
              "      <td>0.0</td>\n",
              "      <td>6.889133e+03</td>\n",
              "      <td>3.001618e+05</td>\n",
              "      <td>4.527358e+05</td>\n",
              "      <td>0.0</td>\n",
              "      <td>0.0</td>\n",
              "      <td>1.915057e+05</td>\n",
              "      <td>6.009039e+05</td>\n",
              "    </tr>\n",
              "    <tr>\n",
              "      <th>2</th>\n",
              "      <td>3</td>\n",
              "      <td>0.0</td>\n",
              "      <td>6.455196e+07</td>\n",
              "      <td>0.0</td>\n",
              "      <td>0.0</td>\n",
              "      <td>7.110790e+07</td>\n",
              "      <td>0.0</td>\n",
              "      <td>6.997804e+07</td>\n",
              "      <td>0.0</td>\n",
              "      <td>0.0</td>\n",
              "      <td>5.670157e+05</td>\n",
              "      <td>5.356332e+07</td>\n",
              "      <td>8.388026e+07</td>\n",
              "      <td>0.0</td>\n",
              "      <td>0.0</td>\n",
              "      <td>3.583296e+07</td>\n",
              "      <td>1.115463e+08</td>\n",
              "    </tr>\n",
              "    <tr>\n",
              "      <th>3</th>\n",
              "      <td>4</td>\n",
              "      <td>0.0</td>\n",
              "      <td>2.009876e+08</td>\n",
              "      <td>0.0</td>\n",
              "      <td>0.0</td>\n",
              "      <td>2.214679e+08</td>\n",
              "      <td>0.0</td>\n",
              "      <td>2.174101e+08</td>\n",
              "      <td>0.0</td>\n",
              "      <td>0.0</td>\n",
              "      <td>1.342720e+06</td>\n",
              "      <td>1.665389e+08</td>\n",
              "      <td>2.614420e+08</td>\n",
              "      <td>0.0</td>\n",
              "      <td>0.0</td>\n",
              "      <td>1.116514e+08</td>\n",
              "      <td>3.472892e+08</td>\n",
              "    </tr>\n",
              "    <tr>\n",
              "      <th>4</th>\n",
              "      <td>5</td>\n",
              "      <td>0.0</td>\n",
              "      <td>2.384675e+05</td>\n",
              "      <td>0.0</td>\n",
              "      <td>0.0</td>\n",
              "      <td>2.597246e+05</td>\n",
              "      <td>0.0</td>\n",
              "      <td>2.577884e+05</td>\n",
              "      <td>0.0</td>\n",
              "      <td>0.0</td>\n",
              "      <td>4.202993e+03</td>\n",
              "      <td>2.042845e+05</td>\n",
              "      <td>3.103489e+05</td>\n",
              "      <td>0.0</td>\n",
              "      <td>0.0</td>\n",
              "      <td>1.315073e+05</td>\n",
              "      <td>4.120424e+05</td>\n",
              "    </tr>\n",
              "  </tbody>\n",
              "</table>\n",
              "</div>"
            ],
            "text/plain": [
              "   index    0             1    2  ...   12   13            14            15\n",
              "0      1  0.0  4.811244e+07  0.0  ...  0.0  0.0  2.670458e+07  8.313858e+07\n",
              "1      2  0.0  3.477977e+05  0.0  ...  0.0  0.0  1.915057e+05  6.009039e+05\n",
              "2      3  0.0  6.455196e+07  0.0  ...  0.0  0.0  3.583296e+07  1.115463e+08\n",
              "3      4  0.0  2.009876e+08  0.0  ...  0.0  0.0  1.116514e+08  3.472892e+08\n",
              "4      5  0.0  2.384675e+05  0.0  ...  0.0  0.0  1.315073e+05  4.120424e+05\n",
              "\n",
              "[5 rows x 17 columns]"
            ]
          },
          "metadata": {
            "tags": []
          },
          "execution_count": 6
        }
      ]
    },
    {
      "cell_type": "code",
      "metadata": {
        "id": "Wj92ybT4aELO",
        "colab_type": "code",
        "colab": {
          "base_uri": "https://localhost:8080/",
          "height": 215
        },
        "outputId": "3c697994-a1c8-4d06-cace-3cd7d1f170aa"
      },
      "source": [
        "data2.rename(columns={'Unnamed: 0':'index'}, inplace=True)\n",
        "data2.head()"
      ],
      "execution_count": 7,
      "outputs": [
        {
          "output_type": "execute_result",
          "data": {
            "text/html": [
              "<div>\n",
              "<style scoped>\n",
              "    .dataframe tbody tr th:only-of-type {\n",
              "        vertical-align: middle;\n",
              "    }\n",
              "\n",
              "    .dataframe tbody tr th {\n",
              "        vertical-align: top;\n",
              "    }\n",
              "\n",
              "    .dataframe thead th {\n",
              "        text-align: right;\n",
              "    }\n",
              "</style>\n",
              "<table border=\"1\" class=\"dataframe\">\n",
              "  <thead>\n",
              "    <tr style=\"text-align: right;\">\n",
              "      <th></th>\n",
              "      <th>index</th>\n",
              "      <th>txsize</th>\n",
              "      <th>txvirtualsize</th>\n",
              "      <th>txinputs_count</th>\n",
              "      <th>txoutputs_count</th>\n",
              "      <th>txinput_val</th>\n",
              "      <th>txoutput_val</th>\n",
              "      <th>txfee</th>\n",
              "      <th>Min_received</th>\n",
              "      <th>Max_received</th>\n",
              "      <th>Avg_received</th>\n",
              "      <th>Total_received</th>\n",
              "      <th>Stdev_received</th>\n",
              "      <th>Var_received</th>\n",
              "      <th>Min_sent</th>\n",
              "      <th>Max_sent</th>\n",
              "      <th>Avg_sent</th>\n",
              "      <th>Total_sent</th>\n",
              "      <th>Stdev_sent</th>\n",
              "      <th>Var_sent</th>\n",
              "    </tr>\n",
              "  </thead>\n",
              "  <tbody>\n",
              "    <tr>\n",
              "      <th>0</th>\n",
              "      <td>1</td>\n",
              "      <td>7369</td>\n",
              "      <td>7369</td>\n",
              "      <td>5</td>\n",
              "      <td>190</td>\n",
              "      <td>215000000.0</td>\n",
              "      <td>214600000.0</td>\n",
              "      <td>400000</td>\n",
              "      <td>0.0005</td>\n",
              "      <td>1.0000</td>\n",
              "      <td>0.011295</td>\n",
              "      <td>2.1460</td>\n",
              "      <td>0.081163</td>\n",
              "      <td>0.006587</td>\n",
              "      <td>0.0005</td>\n",
              "      <td>1.6700</td>\n",
              "      <td>0.4300</td>\n",
              "      <td>2.1500</td>\n",
              "      <td>0.703445</td>\n",
              "      <td>0.494835</td>\n",
              "    </tr>\n",
              "    <tr>\n",
              "      <th>1</th>\n",
              "      <td>2</td>\n",
              "      <td>293</td>\n",
              "      <td>293</td>\n",
              "      <td>1</td>\n",
              "      <td>3</td>\n",
              "      <td>4400000.0</td>\n",
              "      <td>4350000.0</td>\n",
              "      <td>50000</td>\n",
              "      <td>0.0010</td>\n",
              "      <td>0.0415</td>\n",
              "      <td>0.014500</td>\n",
              "      <td>0.0435</td>\n",
              "      <td>0.023383</td>\n",
              "      <td>0.000547</td>\n",
              "      <td>0.0440</td>\n",
              "      <td>0.0440</td>\n",
              "      <td>0.0440</td>\n",
              "      <td>0.0440</td>\n",
              "      <td>0.000000</td>\n",
              "      <td>0.000000</td>\n",
              "    </tr>\n",
              "    <tr>\n",
              "      <th>2</th>\n",
              "      <td>3</td>\n",
              "      <td>11139</td>\n",
              "      <td>11139</td>\n",
              "      <td>1</td>\n",
              "      <td>322</td>\n",
              "      <td>125000000.0</td>\n",
              "      <td>124400000.0</td>\n",
              "      <td>600000</td>\n",
              "      <td>0.0010</td>\n",
              "      <td>0.4460</td>\n",
              "      <td>0.003863</td>\n",
              "      <td>1.2440</td>\n",
              "      <td>0.024941</td>\n",
              "      <td>0.000622</td>\n",
              "      <td>1.2500</td>\n",
              "      <td>1.2500</td>\n",
              "      <td>1.2500</td>\n",
              "      <td>1.2500</td>\n",
              "      <td>0.000000</td>\n",
              "      <td>0.000000</td>\n",
              "    </tr>\n",
              "    <tr>\n",
              "      <th>3</th>\n",
              "      <td>4</td>\n",
              "      <td>495</td>\n",
              "      <td>495</td>\n",
              "      <td>1</td>\n",
              "      <td>9</td>\n",
              "      <td>27450000.0</td>\n",
              "      <td>27400000.0</td>\n",
              "      <td>50000</td>\n",
              "      <td>0.0010</td>\n",
              "      <td>0.2660</td>\n",
              "      <td>0.030444</td>\n",
              "      <td>0.2740</td>\n",
              "      <td>0.088333</td>\n",
              "      <td>0.007803</td>\n",
              "      <td>0.2745</td>\n",
              "      <td>0.2745</td>\n",
              "      <td>0.2745</td>\n",
              "      <td>0.2745</td>\n",
              "      <td>0.000000</td>\n",
              "      <td>0.000000</td>\n",
              "    </tr>\n",
              "    <tr>\n",
              "      <th>4</th>\n",
              "      <td>5</td>\n",
              "      <td>462</td>\n",
              "      <td>462</td>\n",
              "      <td>1</td>\n",
              "      <td>8</td>\n",
              "      <td>3000000.0</td>\n",
              "      <td>2950000.0</td>\n",
              "      <td>50000</td>\n",
              "      <td>0.0010</td>\n",
              "      <td>0.0225</td>\n",
              "      <td>0.003687</td>\n",
              "      <td>0.0295</td>\n",
              "      <td>0.007601</td>\n",
              "      <td>0.000058</td>\n",
              "      <td>0.0300</td>\n",
              "      <td>0.0300</td>\n",
              "      <td>0.0300</td>\n",
              "      <td>0.0300</td>\n",
              "      <td>0.000000</td>\n",
              "      <td>0.000000</td>\n",
              "    </tr>\n",
              "  </tbody>\n",
              "</table>\n",
              "</div>"
            ],
            "text/plain": [
              "   index  txsize  txvirtualsize  ...  Total_sent  Stdev_sent  Var_sent\n",
              "0      1    7369           7369  ...      2.1500    0.703445  0.494835\n",
              "1      2     293            293  ...      0.0440    0.000000  0.000000\n",
              "2      3   11139          11139  ...      1.2500    0.000000  0.000000\n",
              "3      4     495            495  ...      0.2745    0.000000  0.000000\n",
              "4      5     462            462  ...      0.0300    0.000000  0.000000\n",
              "\n",
              "[5 rows x 20 columns]"
            ]
          },
          "metadata": {
            "tags": []
          },
          "execution_count": 7
        }
      ]
    },
    {
      "cell_type": "code",
      "metadata": {
        "id": "AnXOPbH0aHEE",
        "colab_type": "code",
        "colab": {
          "base_uri": "https://localhost:8080/",
          "height": 195
        },
        "outputId": "30b7258b-5025-49ae-fce2-191713ede971"
      },
      "source": [
        "data3.rename(columns={'Unnamed: 0':'index'}, inplace=True)\n",
        "data3.head()"
      ],
      "execution_count": 8,
      "outputs": [
        {
          "output_type": "execute_result",
          "data": {
            "text/html": [
              "<div>\n",
              "<style scoped>\n",
              "    .dataframe tbody tr th:only-of-type {\n",
              "        vertical-align: middle;\n",
              "    }\n",
              "\n",
              "    .dataframe tbody tr th {\n",
              "        vertical-align: top;\n",
              "    }\n",
              "\n",
              "    .dataframe thead th {\n",
              "        text-align: right;\n",
              "    }\n",
              "</style>\n",
              "<table border=\"1\" class=\"dataframe\">\n",
              "  <thead>\n",
              "    <tr style=\"text-align: right;\">\n",
              "      <th></th>\n",
              "      <th>index</th>\n",
              "      <th>label</th>\n",
              "    </tr>\n",
              "  </thead>\n",
              "  <tbody>\n",
              "    <tr>\n",
              "      <th>0</th>\n",
              "      <td>1</td>\n",
              "      <td>unclassified</td>\n",
              "    </tr>\n",
              "    <tr>\n",
              "      <th>1</th>\n",
              "      <td>2</td>\n",
              "      <td>donations</td>\n",
              "    </tr>\n",
              "    <tr>\n",
              "      <th>2</th>\n",
              "      <td>3</td>\n",
              "      <td>unclassified</td>\n",
              "    </tr>\n",
              "    <tr>\n",
              "      <th>3</th>\n",
              "      <td>4</td>\n",
              "      <td>donations</td>\n",
              "    </tr>\n",
              "    <tr>\n",
              "      <th>4</th>\n",
              "      <td>5</td>\n",
              "      <td>donations</td>\n",
              "    </tr>\n",
              "  </tbody>\n",
              "</table>\n",
              "</div>"
            ],
            "text/plain": [
              "   index         label\n",
              "0      1  unclassified\n",
              "1      2     donations\n",
              "2      3  unclassified\n",
              "3      4     donations\n",
              "4      5     donations"
            ]
          },
          "metadata": {
            "tags": []
          },
          "execution_count": 8
        }
      ]
    },
    {
      "cell_type": "code",
      "metadata": {
        "id": "tgH0wtyqaJbb",
        "colab_type": "code",
        "colab": {
          "base_uri": "https://localhost:8080/",
          "height": 1000
        },
        "outputId": "8d2c3efa-9edc-4229-85c1-42a9ecf59172"
      },
      "source": [
        "print(data1.info())\n",
        "print(data2.info())\n",
        "print(data3.info())"
      ],
      "execution_count": 9,
      "outputs": [
        {
          "output_type": "stream",
          "text": [
            "<class 'pandas.core.frame.DataFrame'>\n",
            "RangeIndex: 96498 entries, 0 to 96497\n",
            "Data columns (total 17 columns):\n",
            " #   Column  Non-Null Count  Dtype  \n",
            "---  ------  --------------  -----  \n",
            " 0   index   96498 non-null  int64  \n",
            " 1   0       96498 non-null  float64\n",
            " 2   1       96498 non-null  float64\n",
            " 3   2       96498 non-null  float64\n",
            " 4   3       96498 non-null  float64\n",
            " 5   4       96498 non-null  float64\n",
            " 6   5       96498 non-null  float64\n",
            " 7   6       96498 non-null  float64\n",
            " 8   7       96498 non-null  float64\n",
            " 9   8       96498 non-null  float64\n",
            " 10  9       96498 non-null  float64\n",
            " 11  10      96498 non-null  float64\n",
            " 12  11      96498 non-null  float64\n",
            " 13  12      96498 non-null  float64\n",
            " 14  13      96498 non-null  float64\n",
            " 15  14      96498 non-null  float64\n",
            " 16  15      96498 non-null  float64\n",
            "dtypes: float64(16), int64(1)\n",
            "memory usage: 12.5 MB\n",
            "None\n",
            "<class 'pandas.core.frame.DataFrame'>\n",
            "RangeIndex: 96498 entries, 0 to 96497\n",
            "Data columns (total 20 columns):\n",
            " #   Column           Non-Null Count  Dtype  \n",
            "---  ------           --------------  -----  \n",
            " 0   index            96498 non-null  int64  \n",
            " 1   txsize           96498 non-null  int64  \n",
            " 2   txvirtualsize    96498 non-null  int64  \n",
            " 3   txinputs_count   96498 non-null  int64  \n",
            " 4   txoutputs_count  96498 non-null  int64  \n",
            " 5   txinput_val      96498 non-null  float64\n",
            " 6   txoutput_val     96498 non-null  float64\n",
            " 7   txfee            96498 non-null  int64  \n",
            " 8   Min_received     96498 non-null  float64\n",
            " 9   Max_received     96498 non-null  float64\n",
            " 10  Avg_received     96498 non-null  float64\n",
            " 11  Total_received   96498 non-null  float64\n",
            " 12  Stdev_received   96498 non-null  float64\n",
            " 13  Var_received     96498 non-null  float64\n",
            " 14  Min_sent         96498 non-null  float64\n",
            " 15  Max_sent         96498 non-null  float64\n",
            " 16  Avg_sent         96498 non-null  float64\n",
            " 17  Total_sent       96498 non-null  float64\n",
            " 18  Stdev_sent       96498 non-null  float64\n",
            " 19  Var_sent         96498 non-null  float64\n",
            "dtypes: float64(14), int64(6)\n",
            "memory usage: 14.7 MB\n",
            "None\n",
            "<class 'pandas.core.frame.DataFrame'>\n",
            "RangeIndex: 96498 entries, 0 to 96497\n",
            "Data columns (total 2 columns):\n",
            " #   Column  Non-Null Count  Dtype \n",
            "---  ------  --------------  ----- \n",
            " 0   index   96498 non-null  int64 \n",
            " 1   label   96498 non-null  object\n",
            "dtypes: int64(1), object(1)\n",
            "memory usage: 1.5+ MB\n",
            "None\n"
          ],
          "name": "stdout"
        }
      ]
    },
    {
      "cell_type": "code",
      "metadata": {
        "id": "vWxFihzVaMLU",
        "colab_type": "code",
        "colab": {}
      },
      "source": [
        "X = pd.merge(data3, data1, on='index', how='inner')\n",
        "x = X.iloc[:,2:18]\n",
        "Y = X['label']"
      ],
      "execution_count": 10,
      "outputs": []
    },
    {
      "cell_type": "code",
      "metadata": {
        "id": "YJ7zjjEpaOYI",
        "colab_type": "code",
        "colab": {}
      },
      "source": [
        "from sklearn import preprocessing\n",
        "y = pd.get_dummies(Y)"
      ],
      "execution_count": 11,
      "outputs": []
    },
    {
      "cell_type": "code",
      "metadata": {
        "id": "wF-yq5-LaRpn",
        "colab_type": "code",
        "colab": {
          "base_uri": "https://localhost:8080/",
          "height": 50
        },
        "outputId": "50ad0fe7-3c65-422d-969d-1f23e5968da8"
      },
      "source": [
        "print(x.shape)\n",
        "print(y.shape)"
      ],
      "execution_count": 12,
      "outputs": [
        {
          "output_type": "stream",
          "text": [
            "(96498, 16)\n",
            "(96498, 6)\n"
          ],
          "name": "stdout"
        }
      ]
    },
    {
      "cell_type": "code",
      "metadata": {
        "id": "HwlKSqZqaT3x",
        "colab_type": "code",
        "colab": {}
      },
      "source": [
        "from sklearn.model_selection import train_test_split\n",
        "\n",
        "seed = 7\n",
        "x_train, x_test, y_train, y_test = train_test_split(x, y, test_size=0.4, random_state=seed)\n",
        "x_val, x_test, y_val, y_test = train_test_split(x_test, y_test, test_size= 0.5, random_state=seed)"
      ],
      "execution_count": 13,
      "outputs": []
    },
    {
      "cell_type": "code",
      "metadata": {
        "id": "t-r2rmDEaWBY",
        "colab_type": "code",
        "colab": {
          "base_uri": "https://localhost:8080/",
          "height": 118
        },
        "outputId": "d6f895a3-d8a0-4cd6-e388-1dad270f3c5e"
      },
      "source": [
        "print(x_train.shape)\n",
        "print(x_val.shape)\n",
        "print(x_test.shape)\n",
        "print(y_train.shape)\n",
        "print(y_val.shape)\n",
        "print(y_test.shape)"
      ],
      "execution_count": 14,
      "outputs": [
        {
          "output_type": "stream",
          "text": [
            "(57898, 16)\n",
            "(19300, 16)\n",
            "(19300, 16)\n",
            "(57898, 6)\n",
            "(19300, 6)\n",
            "(19300, 6)\n"
          ],
          "name": "stdout"
        }
      ]
    },
    {
      "cell_type": "code",
      "metadata": {
        "id": "pQJgpYDbaXyw",
        "colab_type": "code",
        "colab": {}
      },
      "source": [
        "\n",
        "from keras import models\n",
        "from keras import layers"
      ],
      "execution_count": 15,
      "outputs": []
    },
    {
      "cell_type": "code",
      "metadata": {
        "id": "fhcHIHd1aZss",
        "colab_type": "code",
        "colab": {
          "base_uri": "https://localhost:8080/",
          "height": 286
        },
        "outputId": "7a0e62c5-5f5e-4742-85a3-9faa545d90ec"
      },
      "source": [
        "nn = models.Sequential()\n",
        "\n",
        "nn.add(layers.Dense(512, activation = \"relu\", input_shape = (16,)))\n",
        "nn.add(layers.Dense(256, activation = \"relu\"))\n",
        "nn.add(layers.Dense(128, activation = \"tanh\"))\n",
        "nn.add(layers.Dense(6, activation = \"softmax\"))\n",
        "\n",
        "nn.compile(optimizer = \"rmsprop\", loss = 'categorical_crossentropy', metrics = ['accuracy'])\n",
        "\n",
        "nn.summary()"
      ],
      "execution_count": 16,
      "outputs": [
        {
          "output_type": "stream",
          "text": [
            "Model: \"sequential\"\n",
            "_________________________________________________________________\n",
            "Layer (type)                 Output Shape              Param #   \n",
            "=================================================================\n",
            "dense (Dense)                (None, 512)               8704      \n",
            "_________________________________________________________________\n",
            "dense_1 (Dense)              (None, 256)               131328    \n",
            "_________________________________________________________________\n",
            "dense_2 (Dense)              (None, 128)               32896     \n",
            "_________________________________________________________________\n",
            "dense_3 (Dense)              (None, 6)                 774       \n",
            "=================================================================\n",
            "Total params: 173,702\n",
            "Trainable params: 173,702\n",
            "Non-trainable params: 0\n",
            "_________________________________________________________________\n"
          ],
          "name": "stdout"
        }
      ]
    },
    {
      "cell_type": "code",
      "metadata": {
        "id": "YeF-opfbabZq",
        "colab_type": "code",
        "colab": {
          "base_uri": "https://localhost:8080/",
          "height": 1000
        },
        "outputId": "1d074c51-2c4f-4d41-ea03-fb0c1334a296"
      },
      "source": [
        "hist = nn.fit(x_train, y_train, epochs=100, batch_size=256, validation_data = (x_val, y_val))\n"
      ],
      "execution_count": 17,
      "outputs": [
        {
          "output_type": "stream",
          "text": [
            "Epoch 1/100\n",
            "227/227 [==============================] - 3s 12ms/step - loss: 0.6366 - accuracy: 0.8227 - val_loss: 0.6345 - val_accuracy: 0.8347\n",
            "Epoch 2/100\n",
            "227/227 [==============================] - 2s 11ms/step - loss: 0.6372 - accuracy: 0.8331 - val_loss: 0.6252 - val_accuracy: 0.8347\n",
            "Epoch 3/100\n",
            "227/227 [==============================] - 2s 10ms/step - loss: 0.6339 - accuracy: 0.8331 - val_loss: 0.6103 - val_accuracy: 0.8347\n",
            "Epoch 4/100\n",
            "227/227 [==============================] - 2s 11ms/step - loss: 0.6093 - accuracy: 0.8331 - val_loss: 0.6389 - val_accuracy: 0.8347\n",
            "Epoch 5/100\n",
            "227/227 [==============================] - 2s 11ms/step - loss: 0.6305 - accuracy: 0.8331 - val_loss: 0.6285 - val_accuracy: 0.8347\n",
            "Epoch 6/100\n",
            "227/227 [==============================] - 2s 11ms/step - loss: 0.6168 - accuracy: 0.8331 - val_loss: 0.6059 - val_accuracy: 0.8347\n",
            "Epoch 7/100\n",
            "227/227 [==============================] - 2s 10ms/step - loss: 0.6264 - accuracy: 0.8331 - val_loss: 0.6243 - val_accuracy: 0.8347\n",
            "Epoch 8/100\n",
            "227/227 [==============================] - 2s 10ms/step - loss: 0.6133 - accuracy: 0.8331 - val_loss: 0.6244 - val_accuracy: 0.8350\n",
            "Epoch 9/100\n",
            "227/227 [==============================] - 2s 10ms/step - loss: 0.6022 - accuracy: 0.8342 - val_loss: 0.6026 - val_accuracy: 0.8560\n",
            "Epoch 10/100\n",
            "227/227 [==============================] - 2s 10ms/step - loss: 0.5947 - accuracy: 0.8469 - val_loss: 0.5994 - val_accuracy: 0.8560\n",
            "Epoch 11/100\n",
            "227/227 [==============================] - 2s 10ms/step - loss: 0.5895 - accuracy: 0.8545 - val_loss: 0.5919 - val_accuracy: 0.8560\n",
            "Epoch 12/100\n",
            "227/227 [==============================] - 2s 11ms/step - loss: 0.5874 - accuracy: 0.8546 - val_loss: 0.6048 - val_accuracy: 0.8560\n",
            "Epoch 13/100\n",
            "227/227 [==============================] - 2s 11ms/step - loss: 0.5856 - accuracy: 0.8546 - val_loss: 0.5882 - val_accuracy: 0.8560\n",
            "Epoch 14/100\n",
            "227/227 [==============================] - 2s 10ms/step - loss: 0.5847 - accuracy: 0.8546 - val_loss: 0.6128 - val_accuracy: 0.8560\n",
            "Epoch 15/100\n",
            "227/227 [==============================] - 2s 10ms/step - loss: 0.5841 - accuracy: 0.8546 - val_loss: 0.5926 - val_accuracy: 0.8560\n",
            "Epoch 16/100\n",
            "227/227 [==============================] - 2s 10ms/step - loss: 0.5836 - accuracy: 0.8546 - val_loss: 0.5854 - val_accuracy: 0.8560\n",
            "Epoch 17/100\n",
            "227/227 [==============================] - 2s 10ms/step - loss: 0.5831 - accuracy: 0.8546 - val_loss: 0.5917 - val_accuracy: 0.8560\n",
            "Epoch 18/100\n",
            "227/227 [==============================] - 2s 11ms/step - loss: 0.5832 - accuracy: 0.8546 - val_loss: 0.5926 - val_accuracy: 0.8560\n",
            "Epoch 19/100\n",
            "227/227 [==============================] - 2s 10ms/step - loss: 0.5826 - accuracy: 0.8546 - val_loss: 0.5867 - val_accuracy: 0.8560\n",
            "Epoch 20/100\n",
            "227/227 [==============================] - 2s 10ms/step - loss: 0.5828 - accuracy: 0.8546 - val_loss: 0.5880 - val_accuracy: 0.8560\n",
            "Epoch 21/100\n",
            "227/227 [==============================] - 2s 11ms/step - loss: 0.5829 - accuracy: 0.8546 - val_loss: 0.6041 - val_accuracy: 0.8560\n",
            "Epoch 22/100\n",
            "227/227 [==============================] - 2s 10ms/step - loss: 0.5825 - accuracy: 0.8546 - val_loss: 0.5944 - val_accuracy: 0.8560\n",
            "Epoch 23/100\n",
            "227/227 [==============================] - 2s 11ms/step - loss: 0.5827 - accuracy: 0.8546 - val_loss: 0.5837 - val_accuracy: 0.8560\n",
            "Epoch 24/100\n",
            "227/227 [==============================] - 2s 11ms/step - loss: 0.5826 - accuracy: 0.8546 - val_loss: 0.5999 - val_accuracy: 0.8560\n",
            "Epoch 25/100\n",
            "227/227 [==============================] - 2s 11ms/step - loss: 0.5829 - accuracy: 0.8546 - val_loss: 0.5981 - val_accuracy: 0.8560\n",
            "Epoch 26/100\n",
            "227/227 [==============================] - 2s 11ms/step - loss: 0.5828 - accuracy: 0.8546 - val_loss: 0.5860 - val_accuracy: 0.8560\n",
            "Epoch 27/100\n",
            "227/227 [==============================] - 2s 11ms/step - loss: 0.5827 - accuracy: 0.8546 - val_loss: 0.5879 - val_accuracy: 0.8560\n",
            "Epoch 28/100\n",
            "227/227 [==============================] - 2s 10ms/step - loss: 0.5824 - accuracy: 0.8546 - val_loss: 0.6135 - val_accuracy: 0.8560\n",
            "Epoch 29/100\n",
            "227/227 [==============================] - 2s 11ms/step - loss: 0.5825 - accuracy: 0.8546 - val_loss: 0.5965 - val_accuracy: 0.8560\n",
            "Epoch 30/100\n",
            "227/227 [==============================] - 2s 11ms/step - loss: 0.5823 - accuracy: 0.8546 - val_loss: 0.5886 - val_accuracy: 0.8560\n",
            "Epoch 31/100\n",
            "227/227 [==============================] - 2s 11ms/step - loss: 0.5824 - accuracy: 0.8546 - val_loss: 0.6028 - val_accuracy: 0.8560\n",
            "Epoch 32/100\n",
            "227/227 [==============================] - 2s 10ms/step - loss: 0.5824 - accuracy: 0.8546 - val_loss: 0.5966 - val_accuracy: 0.8560\n",
            "Epoch 33/100\n",
            "227/227 [==============================] - 2s 10ms/step - loss: 0.5822 - accuracy: 0.8546 - val_loss: 0.5848 - val_accuracy: 0.8560\n",
            "Epoch 34/100\n",
            "227/227 [==============================] - 2s 10ms/step - loss: 0.5824 - accuracy: 0.8546 - val_loss: 0.5859 - val_accuracy: 0.8560\n",
            "Epoch 35/100\n",
            "227/227 [==============================] - 2s 10ms/step - loss: 0.5821 - accuracy: 0.8546 - val_loss: 0.5880 - val_accuracy: 0.8560\n",
            "Epoch 36/100\n",
            "227/227 [==============================] - 2s 11ms/step - loss: 0.5822 - accuracy: 0.8546 - val_loss: 0.5916 - val_accuracy: 0.8560\n",
            "Epoch 37/100\n",
            "227/227 [==============================] - 2s 10ms/step - loss: 0.5823 - accuracy: 0.8546 - val_loss: 0.5877 - val_accuracy: 0.8560\n",
            "Epoch 38/100\n",
            "227/227 [==============================] - 2s 11ms/step - loss: 0.5823 - accuracy: 0.8546 - val_loss: 0.5914 - val_accuracy: 0.8560\n",
            "Epoch 39/100\n",
            "227/227 [==============================] - 2s 10ms/step - loss: 0.5818 - accuracy: 0.8546 - val_loss: 0.5873 - val_accuracy: 0.8560\n",
            "Epoch 40/100\n",
            "227/227 [==============================] - 2s 10ms/step - loss: 0.5818 - accuracy: 0.8546 - val_loss: 0.5903 - val_accuracy: 0.8560\n",
            "Epoch 41/100\n",
            "227/227 [==============================] - 2s 10ms/step - loss: 0.5820 - accuracy: 0.8546 - val_loss: 0.6042 - val_accuracy: 0.8560\n",
            "Epoch 42/100\n",
            "227/227 [==============================] - 2s 10ms/step - loss: 0.5826 - accuracy: 0.8546 - val_loss: 0.5847 - val_accuracy: 0.8560\n",
            "Epoch 43/100\n",
            "227/227 [==============================] - 2s 11ms/step - loss: 0.5823 - accuracy: 0.8546 - val_loss: 0.5922 - val_accuracy: 0.8560\n",
            "Epoch 44/100\n",
            "227/227 [==============================] - 2s 10ms/step - loss: 0.5825 - accuracy: 0.8546 - val_loss: 0.5947 - val_accuracy: 0.8560\n",
            "Epoch 45/100\n",
            "227/227 [==============================] - 2s 10ms/step - loss: 0.5825 - accuracy: 0.8546 - val_loss: 0.5938 - val_accuracy: 0.8560\n",
            "Epoch 46/100\n",
            "227/227 [==============================] - 2s 10ms/step - loss: 0.5821 - accuracy: 0.8546 - val_loss: 0.5955 - val_accuracy: 0.8560\n",
            "Epoch 47/100\n",
            "227/227 [==============================] - 2s 10ms/step - loss: 0.5823 - accuracy: 0.8546 - val_loss: 0.6010 - val_accuracy: 0.8560\n",
            "Epoch 48/100\n",
            "227/227 [==============================] - 2s 10ms/step - loss: 0.5824 - accuracy: 0.8546 - val_loss: 0.5884 - val_accuracy: 0.8560\n",
            "Epoch 49/100\n",
            "227/227 [==============================] - 2s 11ms/step - loss: 0.5820 - accuracy: 0.8546 - val_loss: 0.5957 - val_accuracy: 0.8560\n",
            "Epoch 50/100\n",
            "227/227 [==============================] - 2s 10ms/step - loss: 0.5821 - accuracy: 0.8546 - val_loss: 0.5852 - val_accuracy: 0.8560\n",
            "Epoch 51/100\n",
            "227/227 [==============================] - 2s 11ms/step - loss: 0.5822 - accuracy: 0.8546 - val_loss: 0.5939 - val_accuracy: 0.8560\n",
            "Epoch 52/100\n",
            "227/227 [==============================] - 2s 10ms/step - loss: 0.5819 - accuracy: 0.8546 - val_loss: 0.6114 - val_accuracy: 0.8560\n",
            "Epoch 53/100\n",
            "227/227 [==============================] - 2s 10ms/step - loss: 0.5820 - accuracy: 0.8546 - val_loss: 0.5836 - val_accuracy: 0.8560\n",
            "Epoch 54/100\n",
            "227/227 [==============================] - 2s 11ms/step - loss: 0.5824 - accuracy: 0.8546 - val_loss: 0.5899 - val_accuracy: 0.8560\n",
            "Epoch 55/100\n",
            "227/227 [==============================] - 2s 11ms/step - loss: 0.5823 - accuracy: 0.8546 - val_loss: 0.5834 - val_accuracy: 0.8560\n",
            "Epoch 56/100\n",
            "227/227 [==============================] - 2s 11ms/step - loss: 0.5819 - accuracy: 0.8546 - val_loss: 0.5839 - val_accuracy: 0.8560\n",
            "Epoch 57/100\n",
            "227/227 [==============================] - 2s 10ms/step - loss: 0.5824 - accuracy: 0.8546 - val_loss: 0.5871 - val_accuracy: 0.8560\n",
            "Epoch 58/100\n",
            "227/227 [==============================] - 2s 10ms/step - loss: 0.5821 - accuracy: 0.8546 - val_loss: 0.5914 - val_accuracy: 0.8560\n",
            "Epoch 59/100\n",
            "227/227 [==============================] - 2s 10ms/step - loss: 0.5821 - accuracy: 0.8546 - val_loss: 0.5866 - val_accuracy: 0.8560\n",
            "Epoch 60/100\n",
            "227/227 [==============================] - 2s 10ms/step - loss: 0.5822 - accuracy: 0.8546 - val_loss: 0.6401 - val_accuracy: 0.8560\n",
            "Epoch 61/100\n",
            "227/227 [==============================] - 2s 11ms/step - loss: 0.5823 - accuracy: 0.8546 - val_loss: 0.5833 - val_accuracy: 0.8560\n",
            "Epoch 62/100\n",
            "227/227 [==============================] - 2s 11ms/step - loss: 0.5823 - accuracy: 0.8546 - val_loss: 0.5915 - val_accuracy: 0.8560\n",
            "Epoch 63/100\n",
            "227/227 [==============================] - 2s 11ms/step - loss: 0.5823 - accuracy: 0.8546 - val_loss: 0.5883 - val_accuracy: 0.8560\n",
            "Epoch 64/100\n",
            "227/227 [==============================] - 2s 10ms/step - loss: 0.5824 - accuracy: 0.8546 - val_loss: 0.6012 - val_accuracy: 0.8560\n",
            "Epoch 65/100\n",
            "227/227 [==============================] - 2s 10ms/step - loss: 0.5821 - accuracy: 0.8546 - val_loss: 0.5926 - val_accuracy: 0.8560\n",
            "Epoch 66/100\n",
            "227/227 [==============================] - 2s 10ms/step - loss: 0.5824 - accuracy: 0.8546 - val_loss: 0.5843 - val_accuracy: 0.8560\n",
            "Epoch 67/100\n",
            "227/227 [==============================] - 2s 10ms/step - loss: 0.5826 - accuracy: 0.8546 - val_loss: 0.6024 - val_accuracy: 0.8560\n",
            "Epoch 68/100\n",
            "227/227 [==============================] - 2s 11ms/step - loss: 0.5817 - accuracy: 0.8546 - val_loss: 0.6073 - val_accuracy: 0.8560\n",
            "Epoch 69/100\n",
            "227/227 [==============================] - 2s 10ms/step - loss: 0.5819 - accuracy: 0.8546 - val_loss: 0.5831 - val_accuracy: 0.8560\n",
            "Epoch 70/100\n",
            "227/227 [==============================] - 2s 10ms/step - loss: 0.5816 - accuracy: 0.8547 - val_loss: 0.5924 - val_accuracy: 0.8560\n",
            "Epoch 71/100\n",
            "227/227 [==============================] - 2s 10ms/step - loss: 0.5818 - accuracy: 0.8546 - val_loss: 0.5862 - val_accuracy: 0.8560\n",
            "Epoch 72/100\n",
            "227/227 [==============================] - 2s 10ms/step - loss: 0.5820 - accuracy: 0.8546 - val_loss: 0.5865 - val_accuracy: 0.8560\n",
            "Epoch 73/100\n",
            "227/227 [==============================] - 2s 10ms/step - loss: 0.5821 - accuracy: 0.8546 - val_loss: 0.5964 - val_accuracy: 0.8560\n",
            "Epoch 74/100\n",
            "227/227 [==============================] - 2s 11ms/step - loss: 0.5821 - accuracy: 0.8546 - val_loss: 0.5962 - val_accuracy: 0.8560\n",
            "Epoch 75/100\n",
            "227/227 [==============================] - 2s 11ms/step - loss: 0.5822 - accuracy: 0.8546 - val_loss: 0.5913 - val_accuracy: 0.8560\n",
            "Epoch 76/100\n",
            "227/227 [==============================] - 2s 10ms/step - loss: 0.5820 - accuracy: 0.8546 - val_loss: 0.5846 - val_accuracy: 0.8560\n",
            "Epoch 77/100\n",
            "227/227 [==============================] - 2s 10ms/step - loss: 0.5820 - accuracy: 0.8546 - val_loss: 0.5843 - val_accuracy: 0.8560\n",
            "Epoch 78/100\n",
            "227/227 [==============================] - 2s 11ms/step - loss: 0.5818 - accuracy: 0.8546 - val_loss: 0.5861 - val_accuracy: 0.8560\n",
            "Epoch 79/100\n",
            "227/227 [==============================] - 2s 11ms/step - loss: 0.5822 - accuracy: 0.8546 - val_loss: 0.5914 - val_accuracy: 0.8560\n",
            "Epoch 80/100\n",
            "227/227 [==============================] - 2s 11ms/step - loss: 0.5822 - accuracy: 0.8546 - val_loss: 0.5950 - val_accuracy: 0.8560\n",
            "Epoch 81/100\n",
            "227/227 [==============================] - 2s 11ms/step - loss: 0.5821 - accuracy: 0.8546 - val_loss: 0.5830 - val_accuracy: 0.8560\n",
            "Epoch 82/100\n",
            "227/227 [==============================] - 2s 10ms/step - loss: 0.5820 - accuracy: 0.8546 - val_loss: 0.5933 - val_accuracy: 0.8560\n",
            "Epoch 83/100\n",
            "227/227 [==============================] - 2s 10ms/step - loss: 0.5820 - accuracy: 0.8546 - val_loss: 0.5874 - val_accuracy: 0.8560\n",
            "Epoch 84/100\n",
            "227/227 [==============================] - 2s 10ms/step - loss: 0.5819 - accuracy: 0.8546 - val_loss: 0.5824 - val_accuracy: 0.8560\n",
            "Epoch 85/100\n",
            "227/227 [==============================] - 2s 10ms/step - loss: 0.5817 - accuracy: 0.8546 - val_loss: 0.5860 - val_accuracy: 0.8560\n",
            "Epoch 86/100\n",
            "227/227 [==============================] - 2s 11ms/step - loss: 0.5824 - accuracy: 0.8546 - val_loss: 0.5883 - val_accuracy: 0.8560\n",
            "Epoch 87/100\n",
            "227/227 [==============================] - 2s 10ms/step - loss: 0.5822 - accuracy: 0.8546 - val_loss: 0.5850 - val_accuracy: 0.8560\n",
            "Epoch 88/100\n",
            "227/227 [==============================] - 2s 11ms/step - loss: 0.5821 - accuracy: 0.8545 - val_loss: 0.5870 - val_accuracy: 0.8560\n",
            "Epoch 89/100\n",
            "227/227 [==============================] - 2s 10ms/step - loss: 0.5824 - accuracy: 0.8546 - val_loss: 0.5863 - val_accuracy: 0.8560\n",
            "Epoch 90/100\n",
            "227/227 [==============================] - 2s 10ms/step - loss: 0.5817 - accuracy: 0.8546 - val_loss: 0.5871 - val_accuracy: 0.8560\n",
            "Epoch 91/100\n",
            "227/227 [==============================] - 2s 10ms/step - loss: 0.5821 - accuracy: 0.8547 - val_loss: 0.6056 - val_accuracy: 0.8560\n",
            "Epoch 92/100\n",
            "227/227 [==============================] - 2s 10ms/step - loss: 0.5818 - accuracy: 0.8546 - val_loss: 0.5887 - val_accuracy: 0.8560\n",
            "Epoch 93/100\n",
            "227/227 [==============================] - 2s 11ms/step - loss: 0.5822 - accuracy: 0.8546 - val_loss: 0.5840 - val_accuracy: 0.8560\n",
            "Epoch 94/100\n",
            "227/227 [==============================] - 2s 11ms/step - loss: 0.5819 - accuracy: 0.8547 - val_loss: 0.5837 - val_accuracy: 0.8560\n",
            "Epoch 95/100\n",
            "227/227 [==============================] - 2s 11ms/step - loss: 0.5822 - accuracy: 0.8546 - val_loss: 0.5859 - val_accuracy: 0.8560\n",
            "Epoch 96/100\n",
            "227/227 [==============================] - 2s 10ms/step - loss: 0.5821 - accuracy: 0.8546 - val_loss: 0.5908 - val_accuracy: 0.8560\n",
            "Epoch 97/100\n",
            "227/227 [==============================] - 2s 10ms/step - loss: 0.5823 - accuracy: 0.8546 - val_loss: 0.5858 - val_accuracy: 0.8560\n",
            "Epoch 98/100\n",
            "227/227 [==============================] - 2s 11ms/step - loss: 0.5820 - accuracy: 0.8546 - val_loss: 0.5855 - val_accuracy: 0.8560\n",
            "Epoch 99/100\n",
            "227/227 [==============================] - 2s 10ms/step - loss: 0.5818 - accuracy: 0.8547 - val_loss: 0.6047 - val_accuracy: 0.8560\n",
            "Epoch 100/100\n",
            "227/227 [==============================] - 2s 10ms/step - loss: 0.5823 - accuracy: 0.8546 - val_loss: 0.5835 - val_accuracy: 0.8560\n"
          ],
          "name": "stdout"
        }
      ]
    },
    {
      "cell_type": "code",
      "metadata": {
        "id": "oupwZeErad6C",
        "colab_type": "code",
        "colab": {
          "base_uri": "https://localhost:8080/",
          "height": 67
        },
        "outputId": "e1cdcd6d-5b3f-4747-9b07-83ebabea7b8c"
      },
      "source": [
        "train_loss, train_accuracy = nn.evaluate(x_train, y_train)\n",
        "val_loss, val_accuracy = nn.evaluate(x_val, y_val)\n",
        "test_loss, test_accuracy = nn.evaluate(x_test, y_test)\n"
      ],
      "execution_count": 18,
      "outputs": [
        {
          "output_type": "stream",
          "text": [
            "1810/1810 [==============================] - 2s 1ms/step - loss: 0.5812 - accuracy: 0.8546\n",
            "604/604 [==============================] - 1s 1ms/step - loss: 0.5835 - accuracy: 0.8560\n",
            "604/604 [==============================] - 1s 1ms/step - loss: 0.5824 - accuracy: 0.8549\n"
          ],
          "name": "stdout"
        }
      ]
    },
    {
      "cell_type": "code",
      "metadata": {
        "id": "ozIZKM3HbfS5",
        "colab_type": "code",
        "colab": {
          "base_uri": "https://localhost:8080/",
          "height": 67
        },
        "outputId": "d9072db6-7bf4-4932-8b29-1aee770b39db"
      },
      "source": [
        "print('Training Accuracy : ', train_accuracy*100, \"%\")\n",
        "print('Validate Accuracy : ', val_accuracy*100, \"%\")\n",
        "print('Test Accuracy : ', test_accuracy*100, \"%\")"
      ],
      "execution_count": 19,
      "outputs": [
        {
          "output_type": "stream",
          "text": [
            "Training Accuracy :  85.46236753463745 %\n",
            "Validate Accuracy :  85.59585213661194 %\n",
            "Test Accuracy :  85.48704385757446 %\n"
          ],
          "name": "stdout"
        }
      ]
    },
    {
      "cell_type": "code",
      "metadata": {
        "id": "8gnLfyeebhgl",
        "colab_type": "code",
        "colab": {}
      },
      "source": [
        "loss_train, loss_val, epochs = hist.history['loss'], hist.history['val_loss'], range(1,101)"
      ],
      "execution_count": 20,
      "outputs": []
    },
    {
      "cell_type": "code",
      "metadata": {
        "id": "wNpPK_jsbjTm",
        "colab_type": "code",
        "colab": {
          "base_uri": "https://localhost:8080/",
          "height": 295
        },
        "outputId": "db1f707a-b7ed-4727-f820-b5e20efc8180"
      },
      "source": [
        "plt.plot(epochs, loss_train, 'g', label='Training loss')\n",
        "plt.plot(epochs, loss_val, 'b', label='validation loss')\n",
        "plt.title('Training and Validation loss')\n",
        "plt.xlabel('Epochs')\n",
        "plt.ylabel('Loss')\n",
        "plt.legend()\n",
        "plt.show()"
      ],
      "execution_count": 21,
      "outputs": [
        {
          "output_type": "display_data",
          "data": {
            "image/png": "[encoded data removed]",
            "text/plain": [
              "<Figure size 432x288 with 1 Axes>"
            ]
          },
          "metadata": {
            "tags": [],
            "needs_background": "light"
          }
        }
      ]
    },
    {
      "cell_type": "code",
      "metadata": {
        "id": "gZLERZdxblQL",
        "colab_type": "code",
        "colab": {}
      },
      "source": [
        "loss_train, loss_val, epochs = hist.history['accuracy'], hist.history['val_accuracy'], range(1,101)"
      ],
      "execution_count": 22,
      "outputs": []
    },
    {
      "cell_type": "code",
      "metadata": {
        "id": "ofrG8iLJbnsT",
        "colab_type": "code",
        "colab": {
          "base_uri": "https://localhost:8080/",
          "height": 295
        },
        "outputId": "d150e52d-aa76-4e27-8deb-3bb7651b2f5f"
      },
      "source": [
        "plt.plot(epochs, loss_val, 'b', label='validation accuracy')\n",
        "plt.title('Training and Validation accuracy')\n",
        "plt.xlabel('Epochs')\n",
        "plt.ylabel('Accuracy')\n",
        "plt.legend()\n",
        "plt.show()"
      ],
      "execution_count": 23,
      "outputs": [
        {
          "output_type": "display_data",
          "data": {
            "image/png": "[encoded data removed]",
            "text/plain": [
              "<Figure size 432x288 with 1 Axes>"
            ]
          },
          "metadata": {
            "tags": [],
            "needs_background": "light"
          }
        }
      ]
    },
    {
      "cell_type": "code",
      "metadata": {
        "id": "xpr-ZChAbqU6",
        "colab_type": "code",
        "colab": {}
      },
      "source": [
        ""
      ],
      "execution_count": null,
      "outputs": []
    }
  ]
}